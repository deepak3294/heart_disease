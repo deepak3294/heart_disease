{
 "cells": [
  {
   "cell_type": "code",
   "execution_count": null,
   "id": "df258f2f",
   "metadata": {
    "lines_to_next_cell": 2
   },
   "outputs": [],
   "source": [
    "#import libraries\n",
    "import pandas as pd\n",
    "import numpy as np\n",
    "import matplotlib.pyplot as plt\n",
    "import seaborn as sns\n",
    "from sklearn.model_selection import train_test_split\n",
    "from sklearn.preprocessing import StandardScaler, OneHotEncoder\n",
    "from sklearn.linear_model import LogisticRegression\n",
    "from sklearn.metrics import classification_report, confusion_matrix\n",
    "from sklearn.compose import ColumnTransformer\n",
    "from sklearn.pipeline import Pipeline"
   ]
  },
  {
   "cell_type": "code",
   "execution_count": null,
   "id": "6b1077d0",
   "metadata": {},
   "outputs": [],
   "source": [
    "# Load the Dataset\n",
    "df = pd.read_csv('C:/Users/HP/Documents/heartdisease/dataset.csv')\n",
    "print(\"Data loaded successfully.\")"
   ]
  },
  {
   "cell_type": "code",
   "execution_count": null,
   "id": "e8e16cd5",
   "metadata": {},
   "outputs": [],
   "source": [
    "# Displaying the rows and column names\n",
    "print(\"Printing First 5 rows of the dataset:\")\n",
    "print(df.head())\n",
    "print(\"-\" * 30)\n",
    "print(\"\\nDataFrame Columns:\")\n",
    "print(df.columns.tolist())\n",
    "print(\"-\" * 30)\n",
    "print(\"\\nDataset Information:\")\n",
    "df.info()"
   ]
  },
  {
   "cell_type": "code",
   "execution_count": null,
   "id": "3666b275",
   "metadata": {},
   "outputs": [],
   "source": [
    "# Exploratory Data Analysis (EDA) with Plots\n",
    "plt.style.use('ggplot')"
   ]
  },
  {
   "cell_type": "code",
   "execution_count": null,
   "id": "27aa300b",
   "metadata": {},
   "outputs": [],
   "source": [
    "# Plot 1: checking heart disease\n",
    "plt.figure(figsize=(6, 4))\n",
    "sns.countplot(x='target', data=df)\n",
    "plt.title('Distribution of Heart Disease')\n",
    "plt.xticks([0, 1], ['No Disease', 'Heart Disease'])\n",
    "plt.xlabel('Heart Disease')\n",
    "plt.ylabel('Count')\n",
    "plt.show()"
   ]
  },
  {
   "cell_type": "code",
   "execution_count": null,
   "id": "ceff8aa1",
   "metadata": {},
   "outputs": [],
   "source": [
    "# Plot 2: Heart Disease based on Sex\n",
    "plt.figure(figsize=(7, 5))\n",
    "sns.countplot(x='sex', hue='target', data=df)\n",
    "plt.title('Heart Disease Status by Sex')\n",
    "plt.xticks([0, 1], ['Female', 'Male'])\n",
    "plt.xlabel('Sex (0=Female, 1=Male)')\n",
    "plt.ylabel('Count')\n",
    "plt.legend(title='Target', labels=['No Disease', 'Disease'])\n",
    "plt.show()"
   ]
  },
  {
   "cell_type": "code",
   "execution_count": null,
   "id": "03818dee",
   "metadata": {},
   "outputs": [],
   "source": [
    "# Plot 3: heart disease based on Age criteria \n",
    "plt.figure(figsize=(10, 6))\n",
    "sns.histplot(data=df, x='age', hue='target', bins=30, kde=True, palette='coolwarm')\n",
    "plt.title('Age-wise distribution of disease')\n",
    "plt.xlabel('Age(in years)')\n",
    "plt.ylabel('Frequency')\n",
    "plt.legend(title='Target', labels=['Disease', 'No Disease'])\n",
    "plt.show()"
   ]
  },
  {
   "cell_type": "code",
   "execution_count": null,
   "id": "769c2906",
   "metadata": {
    "lines_to_next_cell": 2
   },
   "outputs": [],
   "source": [
    "## Plot 4: Correlation Heatmap\n",
    "plt.figure(figsize=(12, 10))\n",
    "corr_matrix = df.corr(numeric_only=True) \n",
    "sns.heatmap(corr_matrix, annot=False, cmap='coolwarm', fmt=\".2f\", linewidths=.5)\n",
    "plt.title('Correlation Matrix of All Features')\n",
    "plt.show()"
   ]
  },
  {
   "cell_type": "code",
   "execution_count": null,
   "id": "3307955d",
   "metadata": {},
   "outputs": [],
   "source": [
    "# Data Preprocessing \n",
    "TARGET_COL = 'target'\n",
    "NUMERIC_COLS = [\n",
    "    'age', 'resting bp s', 'cholesterol', 'max heart rate', 'oldpeak'\n",
    "]\n",
    "BINARY_COLS = [\n",
    "    'sex', 'fasting blood sugar', 'exercise angina'\n",
    "]\n",
    "NOMINAL_COLS = [\n",
    "    'chest pain type', 'resting ecg', 'ST slope'\n",
    "]"
   ]
  },
  {
   "cell_type": "code",
   "execution_count": null,
   "id": "25ecf22a",
   "metadata": {},
   "outputs": [],
   "source": [
    "# Separate features (X) and target (y)\n",
    "X = df.drop(TARGET_COL, axis=1)\n",
    "y = df[TARGET_COL]"
   ]
  },
  {
   "cell_type": "code",
   "execution_count": null,
   "id": "d96b57a2",
   "metadata": {},
   "outputs": [],
   "source": [
    "# preprocessing steps\n",
    "numeric_transformer = StandardScaler()\n",
    "nominal_transformer = OneHotEncoder(handle_unknown='ignore', sparse_output=False)"
   ]
  },
  {
   "cell_type": "code",
   "execution_count": null,
   "id": "69b10e36",
   "metadata": {},
   "outputs": [],
   "source": [
    "# Create the ColumnTransformer\n",
    "preprocessor = ColumnTransformer(\n",
    "    transformers=[\n",
    "        ('num', numeric_transformer, NUMERIC_COLS),\n",
    "        ('nom', nominal_transformer, NOMINAL_COLS),\n",
    "        ('bin', 'passthrough', BINARY_COLS) \n",
    "    ],\n",
    "    remainder='drop' \n",
    ")"
   ]
  },
  {
   "cell_type": "code",
   "execution_count": null,
   "id": "5b083483",
   "metadata": {},
   "outputs": [],
   "source": [
    "# Model Training and Evaluation\n",
    "X_train, X_test, y_train, y_test = train_test_split(\n",
    "    X, y, test_size=0.3, random_state=42, stratify=y\n",
    ")\n",
    "print(\"-\" * 30)\n",
    "model = Pipeline(steps=[\n",
    "    ('preprocessor', preprocessor),\n",
    "    ('classifier', LogisticRegression(solver='liblinear', random_state=42))\n",
    "])\n",
    "print(\"\\nTraining the Model...\")\n",
    "model.fit(X_train, y_train)"
   ]
  },
  {
   "cell_type": "code",
   "execution_count": null,
   "id": "6da3ed44",
   "metadata": {},
   "outputs": [],
   "source": [
    "# Model Evaluation\n",
    "y_pred = model.predict(X_test)\n",
    "print(\"\\n--Model Evaluation(By Logistic Regression)--\")\n",
    "print(\"Classification Report:\\n\", classification_report(y_test, y_pred, target_names=['No Disease', 'Heart Disease']))"
   ]
  },
  {
   "cell_type": "code",
   "execution_count": null,
   "id": "47080c56",
   "metadata": {
    "lines_to_next_cell": 2
   },
   "outputs": [],
   "source": [
    "# Confusion Matrix Plot to check the actual predicted disease\n",
    "cm = confusion_matrix(y_test, y_pred)\n",
    "plt.figure(figsize=(6, 5))\n",
    "sns.heatmap(cm, annot=True, fmt='d', cmap='Blues', \n",
    "            xticklabels=['Predicted No Disease', 'Predicted Disease'], \n",
    "            yticklabels=['Actual No Disease', 'Actual Disease'])\n",
    "plt.title('Confusion Matrix')\n",
    "plt.xlabel('Predicted Label')\n",
    "plt.ylabel('True Label')\n",
    "plt.show()"
   ]
  },
  {
   "cell_type": "code",
   "execution_count": null,
   "id": "296a1f50",
   "metadata": {},
   "outputs": [],
   "source": [
    "# Prediction on New Patient Data\n",
    "print(\"-\" * 30)\n",
    "print(\"Prediction on the New Patient Data\")\n",
    "new_patient_data = {\n",
    "    'age': [62],                                \n",
    "    'sex': [0],                                 \n",
    "    'chest pain type': [4],                     \n",
    "    'resting bp s': [150],                      \n",
    "    'cholesterol': [245],                       \n",
    "    'fasting blood sugar': [1],                \n",
    "    'resting ecg': [0],                         \n",
    "    'max heart rate': [120],                   \n",
    "    'exercise angina': [1],                     \n",
    "    'oldpeak': [3.5],                           \n",
    "    'ST slope': [2]                             \n",
    "}\n",
    "X_new = pd.DataFrame(new_patient_data)\n",
    "X_new = X_new[X.columns] "
   ]
  },
  {
   "cell_type": "code",
   "execution_count": null,
   "id": "d10f6ad4",
   "metadata": {},
   "outputs": [],
   "source": [
    "print(X_new.to_string(index=False))\n",
    "new_prediction = model.predict(X_new)\n",
    "probability = model.predict_proba(X_new)[0]\n",
    "predicted_class = new_prediction[0]\n",
    "predicted_prob = probability[predicted_class]"
   ]
  },
  {
   "cell_type": "code",
   "execution_count": null,
   "id": "08873523",
   "metadata": {
    "lines_to_next_cell": 2
   },
   "outputs": [],
   "source": [
    "result_map = {\n",
    "    0: \"Patient is fit and fine and No Heart Disease\", \n",
    "    1: \"Patient has a Heart Disease and needs treatment!\"\n",
    "}\n",
    "print(\"-\" * 30)\n",
    "print(f\"\\nModel Prediction: {result_map[predicted_class]} (prediction ={predicted_class})\")\n",
    "print(f\"Accuracy: {predicted_prob:.4f}\")"
   ]
  },
  {
   "cell_type": "code",
   "execution_count": null,
   "id": "b530f83b",
   "metadata": {},
   "outputs": [],
   "source": [
    "# LOGIC TO EXPLAIN THE PREDICTION WITH TARGETED REASONS\n",
    "if predicted_class == 1:\n",
    "    print(\"\\n--Reason for Mark it Heart Disease--\")\n",
    "    lr_model = model.named_steps['classifier']\n",
    "    preprocessor_fit = model.named_steps['preprocessor']\n",
    "    \n",
    "    # Get feature names \n",
    "    nominal_feature_names = list(preprocessor_fit.named_transformers_['nom'].get_feature_names_out(NOMINAL_COLS))\n",
    "    all_feature_names = (NUMERIC_COLS + nominal_feature_names + BINARY_COLS)\n",
    "    \n",
    "    # Create a DataFrame of feature names and their coefficients\n",
    "    coefficients_df = pd.DataFrame({\n",
    "        'Feature': all_feature_names,\n",
    "        'Coefficient': lr_model.coef_[0]\n",
    "    })"
   ]
  },
  {
   "cell_type": "code",
   "execution_count": null,
   "id": "79196e92",
   "metadata": {},
   "outputs": [],
   "source": [
    "# Based on 4 reasons: Blood pressure, sugar level(0 for ok,1 for high), heart rate, chest pain type\n",
    "    # 1) Blood pressure\n",
    "    bp_val = X_new['resting bp s'].iloc[0]\n",
    "    bp_coef = coefficients_df[coefficients_df['Feature'] == 'resting bp s']['Coefficient'].iloc[0]\n",
    "    \n",
    "    if bp_val >= 140:\n",
    "        print(f\"Blood Pressure ({bp_val} mmHg): This level is considered Hypertensive (Stage 2), exceeding the normal limit of 120/80 mmHg (Weight: {bp_coef:.3f}).\")\n",
    "    elif bp_val >= 130:\n",
    "        print(f\" Blood Pressure ({bp_val} mmHg): This is in the Hypertensive (Stage 1) range, it increases long-term risk\")\n",
    "    else:\n",
    "        print(f\" Blood Pressure ({bp_val} mmHg): This value is within the acceptable range.\")\n",
    "\n",
    "\n",
    "    # 2) Blood Sugar range\n",
    "    sugar_val = X_new['fasting blood sugar'].iloc[0] # 0 or 1\n",
    "    sugar_coef = coefficients_df[coefficients_df['Feature'] == 'fasting blood sugar']['Coefficient'].iloc[0]\n",
    "    \n",
    "    if sugar_val == 1:\n",
    "        print(f\"Fasting Blood Sugar ({sugar_val}): The patient's sugar level is above the critical limit (> 120 mg/dl). High blood sugar is a powerful indicator of increased cardiovascular risk!\")\n",
    "    else:\n",
    "        print(f\"Fasting Blood Sugar ({sugar_val}): The patient's sugar level is within the normal limit (120 mg/dl).\")\n",
    "\n",
    "\n",
    "    # 3) Maximum Heart Rate Achieved\n",
    "    hr_val = X_new['max heart rate'].iloc[0]\n",
    "    hr_coef = coefficients_df[coefficients_df['Feature'] == 'max heart rate']['Coefficient'].iloc[0]\n",
    "    \n",
    "    # Note: A negative coefficient for max heart rate means that *higher* heart rate is associated with *lower* disease risk.\n",
    "    # Therefore, a low patient value (like 120) increases the risk when the coefficient is negative.\n",
    "    if hr_coef < 0:\n",
    "        print(f\"Max Heart Rate Achieved ({hr_val} bpm): This rate is low/moderate for peak exercise. A lower peak heart rate often indicates reduced functional capacity of the heart)(Weight: {hr_coef:.3f}).\")\n",
    "    else:\n",
    "        print(f\"Max Heart Rate Achieved ({hr_val} bpm): This rate is an high value, doing exercise regularly keep strong the heart which typically reduces the risk profile!\")\n",
    "\n",
    "\n",
    "    # 4) Chest Pain Type\n",
    "    cp_code = X_new['chest pain type'].iloc[0]\n",
    "    cp_map = {\n",
    "        1: 'Typical Angina', 2: 'Atypical Angina', \n",
    "        3: 'Non-anginal Pain', 4: 'Asymptomatic'\n",
    "    }\n",
    "    cp_desc = cp_map.get(cp_code, 'Unknown')\n",
    "    \n",
    "    ohe_col = f'chest pain type_{cp_code}'\n",
    "    if ohe_col in coefficients_df['Feature'].values:\n",
    "        coef = coefficients_df[coefficients_df['Feature'] == ohe_col]['Coefficient'].iloc[0]\n",
    "        \n",
    "        if coef > 0 and cp_code == 4:\n",
    "            print(f\"Chest Pain Type: {cp_desc}: The most frequent type of chest pain in patients with severe disease is often Asymptomatic. This pattern is a significant risk factor\")\n",
    "        elif coef > 0 and cp_code in [1, 2]:\n",
    "            print(f\"Chest Pain Type: {cp_desc}: The presence of Angina chest pain is a direct symptom of reduced blood flow to the heart.\")\n",
    "        else:\n",
    "            print(f\"Chest Pain Type: {cp_desc}: This specific type of pain does not contribute significantly to the heart.\")"
   ]
  }
 ],
 "metadata": {
  "jupytext": {
   "cell_metadata_filter": "-all",
   "main_language": "python",
   "notebook_metadata_filter": "-all"
  }
 },
 "nbformat": 4,
 "nbformat_minor": 5
}
